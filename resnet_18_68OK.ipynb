{
 "cells": [
  {
   "cell_type": "code",
   "execution_count": 1,
   "metadata": {},
   "outputs": [],
   "source": [
    "from __future__ import print_function, division\n",
    "\n",
    "import torch\n",
    "import torch.nn as nn\n",
    "import torch.optim as optim\n",
    "from torch.optim import lr_scheduler\n",
    "import numpy as np\n",
    "import torchvision\n",
    "from torchvision import datasets, models, transforms\n",
    "\n",
    "import time\n",
    "import os\n",
    "import copy\n",
    "import matplotlib\n",
    "%matplotlib inline\n",
    "import seaborn as sns\n",
    "import matplotlib.pyplot as plt\n",
    "import pandas as pd"
   ]
  },
  {
   "cell_type": "code",
   "execution_count": 2,
   "metadata": {},
   "outputs": [],
   "source": [
    "def balanced_weights(images, nclasses):                        \n",
    "    count = [0] * nclasses                                                      \n",
    "    for item in images:                                                         \n",
    "        count[item[1]] += 1                                                     \n",
    "    weight_per_class = [0.] * nclasses                                      \n",
    "    N = float(sum(count))                                                   \n",
    "    for i in range(nclasses):                                                   \n",
    "        weight_per_class[i] = float(nclasses)/(N*float(count[i]))                                 \n",
    "    weight = [0] * len(images)                                              \n",
    "    for idx, val in enumerate(images):                                          \n",
    "        weight[idx] = weight_per_class[val[1]]                                  \n",
    "    return weight\n",
    "\n",
    "def sampler(dataset):\n",
    "    weights = balanced_weights(dataset.imgs, len(dataset.classes))                                                                \n",
    "    weights = torch.DoubleTensor(weights)                                       \n",
    "    sampler = torch.utils.data.sampler.WeightedRandomSampler(weights, len(weights))\n",
    "    return sampler"
   ]
  },
  {
   "cell_type": "code",
   "execution_count": 3,
   "metadata": {},
   "outputs": [],
   "source": [
    "# Data augmentation and normalization for training\n",
    "# Just normalization for validation\n",
    "data_transforms = {\n",
    "    'train': transforms.Compose([\n",
    "        #transforms.RandomResizedCrop(224),\n",
    "        #transforms.RandomHorizontalFlip(),\n",
    "        transforms.Resize(256),\n",
    "        transforms.CenterCrop(224),\n",
    "        transforms.ToTensor(),\n",
    "        # NO transforms.Normalize([0.485, 0.456, 0.406], [0.229, 0.224, 0.225])\n",
    "    ]),\n",
    "    'validation': transforms.Compose([\n",
    "        transforms.Resize(256),\n",
    "        transforms.CenterCrop(224),\n",
    "        transforms.ToTensor(),\n",
    "        # NO transforms.Normalize([0.485, 0.456, 0.406], [0.229, 0.224, 0.225])\n",
    "    ]),\n",
    "}\n",
    "#sampler=sampler(image_datasets[x])  shuffle=True\n",
    "data_dir = 'train_processed'\n",
    "image_datasets = {x: datasets.ImageFolder(os.path.join(data_dir, x),\n",
    "                                          data_transforms[x])\n",
    "                  for x in ['train', 'validation']}\n",
    "dataloaders = {x: torch.utils.data.DataLoader(image_datasets[x], batch_size=128,\n",
    "                                        shuffle=True, num_workers=10)\n",
    "              for x in ['train', 'validation']}\n",
    "dataset_sizes = {x: len(image_datasets[x]) for x in ['train', 'validation']}\n",
    "class_names = image_datasets['train'].classes\n",
    "\n",
    "device = torch.device(\"cuda:0\" if torch.cuda.is_available() else \"cpu\")"
   ]
  },
  {
   "cell_type": "code",
   "execution_count": 4,
   "metadata": {},
   "outputs": [],
   "source": [
    "def train_model(model, criterion, optimizer, scheduler, num_epochs=25):\n",
    "    since = time.time()\n",
    "    tr_loss, tr_acc, val_loss, val_acc = {},{},{},{}\n",
    "    best_model_wts = copy.deepcopy(model.state_dict())\n",
    "    best_acc = 0.0\n",
    "\n",
    "    for epoch in range(num_epochs):\n",
    "        print('Epoch {}/{}'.format(epoch, num_epochs - 1))\n",
    "        print('-' * 10)\n",
    "\n",
    "        # Each epoch has a training and validation phase\n",
    "        for phase in ['train', 'validation']:\n",
    "            if phase == 'train':\n",
    "                model.train()  # Set model to training mode\n",
    "            else:\n",
    "                model.eval()   # Set model to evaluate mode\n",
    "\n",
    "            running_loss = 0.0\n",
    "            running_corrects = 0\n",
    "\n",
    "            # Iterate over data.\n",
    "            for inputs, labels in dataloaders[phase]:\n",
    "                inputs = inputs.to(device)\n",
    "                labels = labels.to(device)\n",
    "\n",
    "                # zero the parameter gradients\n",
    "                optimizer.zero_grad()\n",
    "\n",
    "                # forward\n",
    "                # track history if only in train\n",
    "                with torch.set_grad_enabled(phase == 'train'):\n",
    "                    outputs = model(inputs)\n",
    "                    _, preds = torch.max(outputs, 1)\n",
    "                    loss = criterion(outputs, labels)\n",
    "\n",
    "                    # backward + optimize only if in training phase\n",
    "                    if phase == 'train':\n",
    "                        loss.backward()\n",
    "                        optimizer.step()\n",
    "\n",
    "                # statistics\n",
    "                running_loss += loss.item() * inputs.size(0)\n",
    "                running_corrects += torch.sum(preds == labels.data)\n",
    "            if phase == 'train':\n",
    "                scheduler.step()\n",
    "\n",
    "            epoch_loss = running_loss / dataset_sizes[phase]\n",
    "            epoch_acc = running_corrects.double() / dataset_sizes[phase]\n",
    "            \n",
    "            if phase == 'train':\n",
    "                tr_loss[epoch] = epoch_loss\n",
    "                tr_acc[epoch] = float(epoch_acc)\n",
    "            else:\n",
    "                val_loss[epoch] = epoch_loss\n",
    "                val_acc[epoch] = float(epoch_acc)\n",
    "\n",
    "            print('{} Loss: {:.4f} Acc: {:.4f}'.format(\n",
    "                phase, epoch_loss, epoch_acc))\n",
    "            time_elapsed = time.time() - since\n",
    "            print('Time: {:.0f}m {:.0f}s'.format(time_elapsed // 60, time_elapsed % 60))\n",
    "            # deep copy the model\n",
    "            if phase == 'validation' and epoch_acc > best_acc:\n",
    "                best_acc = epoch_acc\n",
    "                best_model_wts = copy.deepcopy(model.state_dict())\n",
    "\n",
    "        print()\n",
    "\n",
    "    time_elapsed = time.time() - since\n",
    "    print('Training complete in {:.0f}m {:.0f}s'.format(\n",
    "        time_elapsed // 60, time_elapsed % 60))\n",
    "    print('Best val Acc: {:4f}'.format(best_acc))\n",
    "\n",
    "    # load best model weights\n",
    "    model.load_state_dict(best_model_wts)\n",
    "    return model, tr_loss, tr_acc, val_loss, val_acc"
   ]
  },
  {
   "cell_type": "code",
   "execution_count": 5,
   "metadata": {},
   "outputs": [],
   "source": [
    "model_ft = models.resnet18(pretrained=True)\n",
    "num_ftrs = model_ft.fc.in_features\n",
    "# Here the size of each output sample is set to 2.\n",
    "# Alternatively, it can be generalized to nn.Linear(num_ftrs, len(class_names)).\n",
    "fc = nn.Sequential(\n",
    "                nn.Linear(num_ftrs, 256),\n",
    "                nn.ReLU(),\n",
    "                nn.Dropout(0.2),\n",
    "                nn.Linear(256, 85)\n",
    "            )\n",
    "\n",
    "model_ft.fc = fc #nn.Linear(num_ftrs, 85)\n",
    "\n",
    "model_ft = model_ft.to(device)\n",
    "\n",
    "criterion = nn.CrossEntropyLoss()\n",
    "\n",
    "# Observe that all parameters are being optimized\n",
    "optimizer_ft = optim.SGD(model_ft.parameters(), lr=0.001, momentum=0.9)\n",
    "\n",
    "# Decay LR by a factor of 0.1 every 7 epochs\n",
    "exp_lr_scheduler = lr_scheduler.StepLR(optimizer_ft, step_size=7, gamma=0.1)"
   ]
  },
  {
   "cell_type": "code",
   "execution_count": 6,
   "metadata": {},
   "outputs": [
    {
     "name": "stdout",
     "output_type": "stream",
     "text": [
      "Epoch 0/9\n",
      "----------\n",
      "train Loss: 3.3491 Acc: 0.2330\n",
      "Time: 5m 57s\n",
      "validation Loss: 2.6588 Acc: 0.3480\n",
      "Time: 7m 30s\n",
      "\n",
      "Epoch 1/9\n",
      "----------\n",
      "train Loss: 2.4540 Acc: 0.3808\n",
      "Time: 13m 29s\n",
      "validation Loss: 2.1854 Acc: 0.4295\n",
      "Time: 15m 4s\n",
      "\n",
      "Epoch 2/9\n",
      "----------\n",
      "train Loss: 2.0907 Acc: 0.4516\n",
      "Time: 21m 7s\n",
      "validation Loss: 1.9488 Acc: 0.4795\n",
      "Time: 22m 42s\n",
      "\n",
      "Epoch 3/9\n",
      "----------\n",
      "train Loss: 1.8502 Acc: 0.4997\n",
      "Time: 28m 39s\n",
      "validation Loss: 1.8193 Acc: 0.5046\n",
      "Time: 30m 13s\n",
      "\n",
      "Epoch 4/9\n",
      "----------\n",
      "train Loss: 1.6565 Acc: 0.5440\n",
      "Time: 36m 4s\n",
      "validation Loss: 1.7162 Acc: 0.5302\n",
      "Time: 37m 38s\n",
      "\n",
      "Epoch 5/9\n",
      "----------\n",
      "train Loss: 1.4947 Acc: 0.5820\n",
      "Time: 43m 33s\n",
      "validation Loss: 1.6645 Acc: 0.5446\n",
      "Time: 45m 4s\n",
      "\n",
      "Epoch 6/9\n",
      "----------\n",
      "train Loss: 1.3440 Acc: 0.6202\n",
      "Time: 50m 60s\n",
      "validation Loss: 1.6457 Acc: 0.5500\n",
      "Time: 52m 31s\n",
      "\n",
      "Epoch 7/9\n",
      "----------\n",
      "train Loss: 1.1592 Acc: 0.6697\n",
      "Time: 58m 24s\n",
      "validation Loss: 1.6100 Acc: 0.5602\n",
      "Time: 59m 55s\n",
      "\n",
      "Epoch 8/9\n",
      "----------\n",
      "train Loss: 1.1291 Acc: 0.6752\n",
      "Time: 65m 52s\n",
      "validation Loss: 1.6104 Acc: 0.5626\n",
      "Time: 67m 23s\n",
      "\n",
      "Epoch 9/9\n",
      "----------\n",
      "train Loss: 1.1046 Acc: 0.6827\n",
      "Time: 73m 18s\n",
      "validation Loss: 1.6152 Acc: 0.5626\n",
      "Time: 74m 50s\n",
      "\n",
      "Training complete in 74m 50s\n",
      "Best val Acc: 0.562563\n"
     ]
    }
   ],
   "source": [
    "model_ft, tr_loss, tr_acc, val_loss, val_acc = train_model(model_ft,\n",
    "                                                           criterion, \n",
    "                                                           optimizer_ft, \n",
    "                                                           exp_lr_scheduler,\n",
    "                                                           num_epochs=10)"
   ]
  },
  {
   "cell_type": "code",
   "execution_count": 11,
   "metadata": {},
   "outputs": [],
   "source": [
    "from  sklearn.metrics import *\n",
    "def accuracy_prec_recall_final(model, loader, n_classes=85):\n",
    "    num_classes = n_classes\n",
    "    precision = []\n",
    "    recall = []\n",
    "    t = time.time()\n",
    "    model.eval()\n",
    "    for data in loader:\n",
    "        inputs, labels = data[0].to(device), data[1].to(device)\n",
    "        outputs = model(inputs)\n",
    "        _, predicted = torch.max(outputs.data, 1)\n",
    "        cur_recall = recall_score(labels.cpu().data.numpy(),predicted.cpu().data.numpy(),average='weighted')\n",
    "        recall.append(cur_recall)\n",
    "        cur_precision = precision_score(labels.cpu().data.numpy(),predicted.cpu().data.numpy(),average='weighted')\n",
    "        precision.append(cur_precision)\n",
    "    avg_prec = np.asarray(precision).mean()\n",
    "    avg_recall = np.asarray(recall).mean()\n",
    "    print(f\"Time end: {(time.time() - t):.1f}s\")\n",
    "    print(f\"Average precision of the network: {round(avg_prec*100,2)}%\")\n",
    "    print(f\"Average recall of the network: {round(avg_recall*100,2)}%\")\n",
    "    return precision, recall "
   ]
  },
  {
   "cell_type": "code",
   "execution_count": 12,
   "metadata": {
    "scrolled": true
   },
   "outputs": [
    {
     "name": "stderr",
     "output_type": "stream",
     "text": [
      "D:\\ProgramData\\Anaconda3\\lib\\site-packages\\sklearn\\metrics\\classification.py:1439: UndefinedMetricWarning: Recall is ill-defined and being set to 0.0 in labels with no true samples.\n",
      "  'recall', 'true', average, warn_for)\n",
      "D:\\ProgramData\\Anaconda3\\lib\\site-packages\\sklearn\\metrics\\classification.py:1437: UndefinedMetricWarning: Precision is ill-defined and being set to 0.0 in labels with no predicted samples.\n",
      "  'precision', 'predicted', average, warn_for)\n"
     ]
    },
    {
     "name": "stdout",
     "output_type": "stream",
     "text": [
      "Time end: 86.2s\n",
      "Average precision of the network: 54.85%\n",
      "Average recall of the network: 56.26%\n"
     ]
    }
   ],
   "source": [
    "pr, rec = accuracy_prec_recall_final(model_ft, dataloaders['validation'])"
   ]
  },
  {
   "cell_type": "code",
   "execution_count": 11,
   "metadata": {},
   "outputs": [
    {
     "data": {
      "text/plain": [
       "ResNet(\n",
       "  (conv1): Conv2d(3, 64, kernel_size=(7, 7), stride=(2, 2), padding=(3, 3), bias=False)\n",
       "  (bn1): BatchNorm2d(64, eps=1e-05, momentum=0.1, affine=True, track_running_stats=True)\n",
       "  (relu): ReLU(inplace=True)\n",
       "  (maxpool): MaxPool2d(kernel_size=3, stride=2, padding=1, dilation=1, ceil_mode=False)\n",
       "  (layer1): Sequential(\n",
       "    (0): BasicBlock(\n",
       "      (conv1): Conv2d(64, 64, kernel_size=(3, 3), stride=(1, 1), padding=(1, 1), bias=False)\n",
       "      (bn1): BatchNorm2d(64, eps=1e-05, momentum=0.1, affine=True, track_running_stats=True)\n",
       "      (relu): ReLU(inplace=True)\n",
       "      (conv2): Conv2d(64, 64, kernel_size=(3, 3), stride=(1, 1), padding=(1, 1), bias=False)\n",
       "      (bn2): BatchNorm2d(64, eps=1e-05, momentum=0.1, affine=True, track_running_stats=True)\n",
       "    )\n",
       "    (1): BasicBlock(\n",
       "      (conv1): Conv2d(64, 64, kernel_size=(3, 3), stride=(1, 1), padding=(1, 1), bias=False)\n",
       "      (bn1): BatchNorm2d(64, eps=1e-05, momentum=0.1, affine=True, track_running_stats=True)\n",
       "      (relu): ReLU(inplace=True)\n",
       "      (conv2): Conv2d(64, 64, kernel_size=(3, 3), stride=(1, 1), padding=(1, 1), bias=False)\n",
       "      (bn2): BatchNorm2d(64, eps=1e-05, momentum=0.1, affine=True, track_running_stats=True)\n",
       "    )\n",
       "  )\n",
       "  (layer2): Sequential(\n",
       "    (0): BasicBlock(\n",
       "      (conv1): Conv2d(64, 128, kernel_size=(3, 3), stride=(2, 2), padding=(1, 1), bias=False)\n",
       "      (bn1): BatchNorm2d(128, eps=1e-05, momentum=0.1, affine=True, track_running_stats=True)\n",
       "      (relu): ReLU(inplace=True)\n",
       "      (conv2): Conv2d(128, 128, kernel_size=(3, 3), stride=(1, 1), padding=(1, 1), bias=False)\n",
       "      (bn2): BatchNorm2d(128, eps=1e-05, momentum=0.1, affine=True, track_running_stats=True)\n",
       "      (downsample): Sequential(\n",
       "        (0): Conv2d(64, 128, kernel_size=(1, 1), stride=(2, 2), bias=False)\n",
       "        (1): BatchNorm2d(128, eps=1e-05, momentum=0.1, affine=True, track_running_stats=True)\n",
       "      )\n",
       "    )\n",
       "    (1): BasicBlock(\n",
       "      (conv1): Conv2d(128, 128, kernel_size=(3, 3), stride=(1, 1), padding=(1, 1), bias=False)\n",
       "      (bn1): BatchNorm2d(128, eps=1e-05, momentum=0.1, affine=True, track_running_stats=True)\n",
       "      (relu): ReLU(inplace=True)\n",
       "      (conv2): Conv2d(128, 128, kernel_size=(3, 3), stride=(1, 1), padding=(1, 1), bias=False)\n",
       "      (bn2): BatchNorm2d(128, eps=1e-05, momentum=0.1, affine=True, track_running_stats=True)\n",
       "    )\n",
       "  )\n",
       "  (layer3): Sequential(\n",
       "    (0): BasicBlock(\n",
       "      (conv1): Conv2d(128, 256, kernel_size=(3, 3), stride=(2, 2), padding=(1, 1), bias=False)\n",
       "      (bn1): BatchNorm2d(256, eps=1e-05, momentum=0.1, affine=True, track_running_stats=True)\n",
       "      (relu): ReLU(inplace=True)\n",
       "      (conv2): Conv2d(256, 256, kernel_size=(3, 3), stride=(1, 1), padding=(1, 1), bias=False)\n",
       "      (bn2): BatchNorm2d(256, eps=1e-05, momentum=0.1, affine=True, track_running_stats=True)\n",
       "      (downsample): Sequential(\n",
       "        (0): Conv2d(128, 256, kernel_size=(1, 1), stride=(2, 2), bias=False)\n",
       "        (1): BatchNorm2d(256, eps=1e-05, momentum=0.1, affine=True, track_running_stats=True)\n",
       "      )\n",
       "    )\n",
       "    (1): BasicBlock(\n",
       "      (conv1): Conv2d(256, 256, kernel_size=(3, 3), stride=(1, 1), padding=(1, 1), bias=False)\n",
       "      (bn1): BatchNorm2d(256, eps=1e-05, momentum=0.1, affine=True, track_running_stats=True)\n",
       "      (relu): ReLU(inplace=True)\n",
       "      (conv2): Conv2d(256, 256, kernel_size=(3, 3), stride=(1, 1), padding=(1, 1), bias=False)\n",
       "      (bn2): BatchNorm2d(256, eps=1e-05, momentum=0.1, affine=True, track_running_stats=True)\n",
       "    )\n",
       "  )\n",
       "  (layer4): Sequential(\n",
       "    (0): BasicBlock(\n",
       "      (conv1): Conv2d(256, 512, kernel_size=(3, 3), stride=(2, 2), padding=(1, 1), bias=False)\n",
       "      (bn1): BatchNorm2d(512, eps=1e-05, momentum=0.1, affine=True, track_running_stats=True)\n",
       "      (relu): ReLU(inplace=True)\n",
       "      (conv2): Conv2d(512, 512, kernel_size=(3, 3), stride=(1, 1), padding=(1, 1), bias=False)\n",
       "      (bn2): BatchNorm2d(512, eps=1e-05, momentum=0.1, affine=True, track_running_stats=True)\n",
       "      (downsample): Sequential(\n",
       "        (0): Conv2d(256, 512, kernel_size=(1, 1), stride=(2, 2), bias=False)\n",
       "        (1): BatchNorm2d(512, eps=1e-05, momentum=0.1, affine=True, track_running_stats=True)\n",
       "      )\n",
       "    )\n",
       "    (1): BasicBlock(\n",
       "      (conv1): Conv2d(512, 512, kernel_size=(3, 3), stride=(1, 1), padding=(1, 1), bias=False)\n",
       "      (bn1): BatchNorm2d(512, eps=1e-05, momentum=0.1, affine=True, track_running_stats=True)\n",
       "      (relu): ReLU(inplace=True)\n",
       "      (conv2): Conv2d(512, 512, kernel_size=(3, 3), stride=(1, 1), padding=(1, 1), bias=False)\n",
       "      (bn2): BatchNorm2d(512, eps=1e-05, momentum=0.1, affine=True, track_running_stats=True)\n",
       "    )\n",
       "  )\n",
       "  (avgpool): AdaptiveAvgPool2d(output_size=(1, 1))\n",
       "  (fc): Linear(in_features=512, out_features=85, bias=True)\n",
       ")"
      ]
     },
     "execution_count": 11,
     "metadata": {},
     "output_type": "execute_result"
    }
   ],
   "source": [
    "model_ft"
   ]
  },
  {
   "cell_type": "code",
   "execution_count": 7,
   "metadata": {},
   "outputs": [],
   "source": [
    "columns_a = ['epochs','accuracy']\n",
    "columns_l = ['epochs','loss']\n",
    "\n",
    "df_tr_loss = pd.Series(tr_loss).to_frame('new_col').reset_index()\n",
    "df_tr_loss.columns=columns_l\n",
    "\n",
    "df_tr_acc = pd.Series(tr_acc).to_frame('new_col').reset_index()\n",
    "df_tr_acc.columns=columns_a\n",
    "\n",
    "df_val_loss = pd.Series(val_loss).to_frame('new_col').reset_index()\n",
    "df_val_loss.columns=columns_l\n",
    "\n",
    "df_val_acc = pd.Series(val_acc).to_frame('new_col').reset_index()\n",
    "df_val_acc.columns=columns_a"
   ]
  },
  {
   "cell_type": "code",
   "execution_count": 8,
   "metadata": {},
   "outputs": [
    {
     "name": "stdout",
     "output_type": "stream",
     "text": [
      "{0: 0.23302626760970532, 1: 0.38075507332960745, 2: 0.45157933280656787, 3: 0.4996723775752086, 4: 0.5440266723197594, 5: 0.5819923297808784, 6: 0.620150706315404, 7: 0.6697084160419357, 8: 0.6751623658193452, 9: 0.6827169534968875}\n",
      "{0: 3.349094682720425, 1: 2.4540304613737374, 2: 2.09070119205513, 3: 1.8502210960759626, 4: 1.656507720556985, 5: 1.4946579892043217, 6: 1.3440389635246361, 7: 1.1591612833905232, 8: 1.129094537253434, 9: 1.1046252959692007}\n",
      "{0: 3.349094682720425, 1: 2.4540304613737374, 2: 2.09070119205513, 3: 1.8502210960759626, 4: 1.656507720556985, 5: 1.4946579892043217, 6: 1.3440389635246361, 7: 1.1591612833905232, 8: 1.129094537253434, 9: 1.1046252959692007}\n",
      "{0: 2.6588440458093188, 1: 2.185357854614628, 2: 1.9488345215217837, 3: 1.819320157180635, 4: 1.7162272509866117, 5: 1.6645374029458935, 6: 1.645721330077304, 7: 1.6099711367255158, 8: 1.6104007051901097, 9: 1.6151921003034493}\n"
     ]
    }
   ],
   "source": [
    "print(tr_acc)\n",
    "print(tr_loss)\n",
    "print(tr_loss)\n",
    "print(val_loss)"
   ]
  },
  {
   "cell_type": "code",
   "execution_count": 9,
   "metadata": {},
   "outputs": [
    {
     "data": {
      "image/png": "[encoded data removed]",
      "text/plain": [
       "<Figure size 432x288 with 1 Axes>"
      ]
     },
     "metadata": {
      "needs_background": "light"
     },
     "output_type": "display_data"
    }
   ],
   "source": [
    "sns.lineplot(x=df_tr_acc.epochs, y=df_tr_acc.accuracy, label='Acc Train');\n",
    "ax=sns.lineplot(x=df_val_acc.epochs, y=df_val_acc.accuracy, label='Acc Validation');"
   ]
  },
  {
   "cell_type": "code",
   "execution_count": 10,
   "metadata": {},
   "outputs": [
    {
     "data": {
      "image/png": "[encoded data removed]",
      "text/plain": [
       "<Figure size 432x288 with 1 Axes>"
      ]
     },
     "metadata": {
      "needs_background": "light"
     },
     "output_type": "display_data"
    }
   ],
   "source": [
    "sns.lineplot(x=df_tr_loss.epochs, y=df_tr_loss.loss, label='Loss Train');\n",
    "ax=sns.lineplot(x=df_val_loss.epochs, y=df_val_loss.loss, label='Loss Validation');"
   ]
  },
  {
   "cell_type": "code",
   "execution_count": null,
   "metadata": {},
   "outputs": [],
   "source": []
  }
 ],
 "metadata": {
  "kernelspec": {
   "display_name": "Python 3",
   "language": "python",
   "name": "python3"
  },
  "language_info": {
   "codemirror_mode": {
    "name": "ipython",
    "version": 3
   },
   "file_extension": ".py",
   "mimetype": "text/x-python",
   "name": "python",
   "nbconvert_exporter": "python",
   "pygments_lexer": "ipython3",
   "version": "3.6.5"
  }
 },
 "nbformat": 4,
 "nbformat_minor": 4
}
