{
 "cells": [
  {
   "cell_type": "code",
   "execution_count": 1,
   "metadata": {},
   "outputs": [
    {
     "name": "stdout",
     "output_type": "stream",
     "text": [
      "--2019-11-23 07:37:11--  https://s3.eu-central-1.wasabisys.com/aicrowd-public-datasets/snakes-challenge/Oct-2019/train_labels.tar.gz\n",
      "Resolving s3.eu-central-1.wasabisys.com (s3.eu-central-1.wasabisys.com)... 130.117.252.10, 130.117.252.11, 130.117.252.12\n",
      "Connecting to s3.eu-central-1.wasabisys.com (s3.eu-central-1.wasabisys.com)|130.117.252.10|:443... connected.\n",
      "HTTP request sent, awaiting response... 200 OK\n",
      "Length: 1787596 (1.7M) [application/x-tar]\n",
      "Saving to: 'train_labels.tar.gz'\n",
      "\n",
      "train_labels.tar.gz 100%[===================>]   1.70M  --.-KB/s    in 0.05s   \n",
      "\n",
      "2019-11-23 07:37:12 (35.8 MB/s) - 'train_labels.tar.gz' saved [1787596/1787596]\n",
      "\n"
     ]
    }
   ],
   "source": [
    "#!wget https://s3.eu-central-1.wasabisys.com/aicrowd-public-datasets/snakes-challenge/Oct-2019/train_labels.tar.gz"
   ]
  },
  {
   "cell_type": "code",
   "execution_count": 2,
   "metadata": {},
   "outputs": [
    {
     "name": "stdout",
     "output_type": "stream",
     "text": [
      "--2019-11-23 07:37:29--  https://s3.eu-central-1.wasabisys.com/aicrowd-public-datasets/snakes-challenge/Oct-2019/train_images.tar.gz\n",
      "Resolving s3.eu-central-1.wasabisys.com (s3.eu-central-1.wasabisys.com)... 130.117.252.11, 130.117.252.12, 130.117.252.10\n",
      "Connecting to s3.eu-central-1.wasabisys.com (s3.eu-central-1.wasabisys.com)|130.117.252.11|:443... connected.\n",
      "HTTP request sent, awaiting response... 200 OK\n",
      "Length: 26062948858 (24G) [application/x-tar]\n",
      "Saving to: 'train_images.tar.gz'\n",
      "\n",
      "train_images.tar.gz 100%[===================>]  24.27G  72.4MB/s    in 6m 44s  \n",
      "\n",
      "2019-11-23 07:44:13 (61.5 MB/s) - 'train_images.tar.gz' saved [26062948858/26062948858]\n",
      "\n"
     ]
    }
   ],
   "source": [
    "#!wget https://s3.eu-central-1.wasabisys.com/aicrowd-public-datasets/snakes-challenge/Oct-2019/train_images.tar.gz"
   ]
  },
  {
   "cell_type": "code",
   "execution_count": 3,
   "metadata": {},
   "outputs": [
    {
     "name": "stdout",
     "output_type": "stream",
     "text": [
      "--2019-11-23 08:02:07--  https://s3.eu-central-1.wasabisys.com/aicrowd-public-datasets/snakes-challenge/Oct-2019/test_metadata_small.tar.gz\n",
      "Resolving s3.eu-central-1.wasabisys.com (s3.eu-central-1.wasabisys.com)... 130.117.252.12, 130.117.252.10, 130.117.252.11\n",
      "Connecting to s3.eu-central-1.wasabisys.com (s3.eu-central-1.wasabisys.com)|130.117.252.12|:443... connected.\n",
      "HTTP request sent, awaiting response... 200 OK\n",
      "Length: 2612 (2.6K) [application/x-gzip]\n",
      "Saving to: 'test_metadata_small.tar.gz'\n",
      "\n",
      "test_metadata_small 100%[===================>]   2.55K  --.-KB/s    in 0s      \n",
      "\n",
      "2019-11-23 08:02:08 (50.4 MB/s) - 'test_metadata_small.tar.gz' saved [2612/2612]\n",
      "\n"
     ]
    }
   ],
   "source": [
    "#!wget https://s3.eu-central-1.wasabisys.com/aicrowd-public-datasets/snakes-challenge/Oct-2019/test_metadata_small.tar.gz"
   ]
  },
  {
   "cell_type": "code",
   "execution_count": 4,
   "metadata": {},
   "outputs": [
    {
     "name": "stdout",
     "output_type": "stream",
     "text": [
      "--2019-11-23 08:02:18--  https://s3.eu-central-1.wasabisys.com/aicrowd-public-datasets/snakes-challenge/Oct-2019/test_images_small.tar.gz\n",
      "Resolving s3.eu-central-1.wasabisys.com (s3.eu-central-1.wasabisys.com)... 130.117.252.10, 130.117.252.11, 130.117.252.12\n",
      "Connecting to s3.eu-central-1.wasabisys.com (s3.eu-central-1.wasabisys.com)|130.117.252.10|:443... connected.\n",
      "HTTP request sent, awaiting response... 200 OK\n",
      "Length: 58869614 (56M) [application/x-gzip]\n",
      "Saving to: 'test_images_small.tar.gz'\n",
      "\n",
      "test_images_small.t 100%[===================>]  56.14M  76.1MB/s    in 0.7s    \n",
      "\n",
      "2019-11-23 08:02:19 (76.1 MB/s) - 'test_images_small.tar.gz' saved [58869614/58869614]\n",
      "\n"
     ]
    }
   ],
   "source": [
    "#!wget https://s3.eu-central-1.wasabisys.com/aicrowd-public-datasets/snakes-challenge/Oct-2019/test_images_small.tar.gz"
   ]
  },
  {
   "cell_type": "code",
   "execution_count": 1,
   "metadata": {},
   "outputs": [],
   "source": [
    "from zipfile import ZipFile\n",
    "import tarfile\n",
    "import torchvision"
   ]
  },
  {
   "cell_type": "code",
   "execution_count": 2,
   "metadata": {},
   "outputs": [],
   "source": [
    "from PIL import Image\n",
    "import os\n",
    "from os import listdir\n",
    "from os.path import isfile, join\n",
    "import shutil"
   ]
  },
  {
   "cell_type": "code",
   "execution_count": 3,
   "metadata": {},
   "outputs": [],
   "source": [
    "import pandas as pd\n",
    "pd.set_option('display.max_columns', None)\n",
    "pd.set_option('display.max_rows', None)\n",
    "from IPython.core.interactiveshell import InteractiveShell\n",
    "InteractiveShell.ast_node_interactivity = 'all'\n",
    "\n",
    "import matplotlib\n",
    "%matplotlib inline\n",
    "import seaborn as sns\n",
    "import matplotlib.pyplot as plt"
   ]
  },
  {
   "cell_type": "code",
   "execution_count": 4,
   "metadata": {},
   "outputs": [],
   "source": [
    "losst2 = [2.91,2.92,2.84,2.73,2.86,2.76,2.8,2.81]\n",
    "t2f28t_2 ={5:51.4, 10:63, 18:72.2, 20:72.5, 22:72.6, 25:75,30:76.3,35:76.6,40:77.8,45:77.2,50:77.7}\n",
    "\n",
    "losst2_29=[3.19,2.93,2.87,2.99,2.85, 2.77]\n",
    "t2f29t_2 ={5:50.2, 10:64.4, 15:70.7, 20:72.7, 25:74.8, 35:75.1}\n",
    "\n",
    "losst4 = [3.09,2.9,2.86,2.91,2.80,2.86]\n",
    "t4f28t_2 ={5:48.8, 10:56.1, 15:59.2, 20:63.3,22:62.0, 25:62.1}\n",
    "\n",
    "# dataset full 30 epochs loss 2.99 acc 54.7\n",
    "\n",
    "df2 = pd.Series(t2f28t_2).to_frame('new_col').reset_index()\n",
    "df2.columns=['epochs','outcome']\n",
    "\n",
    "df3 = pd.Series(t2f29t_2).to_frame('new_col').reset_index()\n",
    "df3.columns=['epochs','outcome']\n",
    "\n",
    "df4 = pd.Series(t4f28t_2).to_frame('new_col').reset_index()\n",
    "df4.columns=['epochs','outcome']\n",
    "df4['loss']=losst4\n"
   ]
  },
  {
   "cell_type": "code",
   "execution_count": 5,
   "metadata": {},
   "outputs": [
    {
     "data": {
      "image/png": "[encoded data removed]",
      "text/plain": [
       "<Figure size 432x288 with 1 Axes>"
      ]
     },
     "metadata": {
      "needs_background": "light"
     },
     "output_type": "display_data"
    }
   ],
   "source": [
    "sns.lineplot(x=df2.epochs, y=df2.outcome, label='No normalize');\n",
    "sns.lineplot(x=df4.epochs, y=df4.outcome, label='Normalize');\n",
    "ax=sns.lineplot(x=df3.epochs, y=df3.outcome, label='freeze 29');\n",
    "#ax = sns.lineplot(x=df4.epochs, y=df4.loss, label='loss N');\n",
    "ax.lines[2].set_linestyle(\"--\");"
   ]
  },
  {
   "cell_type": "code",
   "execution_count": 8,
   "metadata": {},
   "outputs": [],
   "source": [
    "out1 ={0:29.99, 1:41.3, 2:46.49, 3:49.39, 4:51.84, 5:53.46, 6:55.18, 7:56.71, 8:57, 9:57.25}\n",
    "los1 ={0:40.60, 1:47.6, 2:51.49, 3:54, 4:55.84, 5:57.46, 6:58.46, 7:59.3, 8:59.6, 9:59.82}\n",
    "df2 = pd.Series(out1).to_frame('new_col').reset_index()\n",
    "df2.columns=['epochs','outcome']\n",
    "df3 = pd.Series(los1).to_frame('new_col').reset_index()\n",
    "df3.columns=['epochs','outcome']"
   ]
  },
  {
   "cell_type": "code",
   "execution_count": 11,
   "metadata": {},
   "outputs": [
    {
     "data": {
      "image/png": "[encoded data removed]",
      "text/plain": [
       "<Figure size 432x288 with 1 Axes>"
      ]
     },
     "metadata": {
      "needs_background": "light"
     },
     "output_type": "display_data"
    }
   ],
   "source": [
    "sns.lineplot(x=df2.epochs, y=df2.outcome, label='Acc train');\n",
    "ax=sns.lineplot(x=df3.epochs, y=df3.outcome, label='Acc validation');"
   ]
  },
  {
   "cell_type": "code",
   "execution_count": 4,
   "metadata": {},
   "outputs": [],
   "source": [
    "def get_folders(path):\n",
    "    nofiles = []\n",
    "    folder=path\n",
    "    try:\n",
    "        nofiles = [f for f in listdir(folder) if not isfile(join(folder, f))]\n",
    "    except:\n",
    "        print(\"FileNotFoundError: [Errno 2] No such file or directory: \"+path)\n",
    "    return nofiles\n",
    "\n",
    "def get_files(path):\n",
    "    files = []\n",
    "    folder=path\n",
    "    try:\n",
    "        files = [f for f in listdir(folder) if isfile(join(folder, f))]\n",
    "    except:\n",
    "        print(\"get_files FileNotFoundError: [Errno 2] No such file or directory: \"+path)\n",
    "    return files"
   ]
  },
  {
   "cell_type": "code",
   "execution_count": 5,
   "metadata": {},
   "outputs": [],
   "source": [
    "def delete_all_folders(path):\n",
    "    shutil.rmtree(path)\n",
    "    \n",
    "def delete_folders_if(root, min_files=0, max_files=0, test=False):\n",
    "    folders = get_folders(root)\n",
    "    count = 0\n",
    "    for fol in folders:\n",
    "        files = get_files(root+fol)\n",
    "        if len(files) > min_files and len(files) < max_files:\n",
    "            count += 1\n",
    "            if test:\n",
    "                print(\"# BORRABLE[\"+str(count)+\"] \"+fol+\"=\"+str(len(files)))\n",
    "            else:\n",
    "                shutil.rmtree(root+fol)\n",
    "                print(\"BORRAT[\"+str(count)+\"] --> \"+fol+\"=\"+str(len(files)))\n",
    "\n",
    "def delete_files_if(listfile, delete_over=500):\n",
    "    dellist = listfile[delete_over:]\n",
    "    for file in dellist:\n",
    "        os.remove(file)\n",
    "    print('deleted '+str(len(dellist))+' files' )\n",
    "    \n",
    "def equalize_folders(root, folders, delete_over):\n",
    "    print(len(folders),'folders')\n",
    "    for fol in folders:\n",
    "        folder = root + fol\n",
    "        alist = [folder+\"/\"+f for f in listdir(folder) if isfile(join(folder, f))]\n",
    "        #print(alist[:2])\n",
    "        delete_files_if(alist, delete_over=delete_over)"
   ]
  },
  {
   "cell_type": "code",
   "execution_count": 6,
   "metadata": {
    "scrolled": true
   },
   "outputs": [],
   "source": [
    "#equalize_folders(\"train_processed2/train/\",get_folders(\"train_processed2/train/\"),4000)"
   ]
  },
  {
   "cell_type": "code",
   "execution_count": 40,
   "metadata": {},
   "outputs": [],
   "source": [
    "#equalize_folders(\"train_processed2/validation/\",get_folders(\"train_processed2/validation/\"),1000)"
   ]
  },
  {
   "cell_type": "code",
   "execution_count": 8,
   "metadata": {},
   "outputs": [
    {
     "data": {
      "text/plain": [
       "85"
      ]
     },
     "execution_count": 8,
     "metadata": {},
     "output_type": "execute_result"
    },
    {
     "data": {
      "text/plain": [
       "['agkistrodon-contortrix', 'agkistrodon-piscivorus']"
      ]
     },
     "execution_count": 8,
     "metadata": {},
     "output_type": "execute_result"
    }
   ],
   "source": [
    "train2num = get_folders(\"train_processed2/train/\")\n",
    "len(train2num)\n",
    "train2num[:2]\n"
   ]
  },
  {
   "cell_type": "code",
   "execution_count": 24,
   "metadata": {},
   "outputs": [
    {
     "name": "stdout",
     "output_type": "stream",
     "text": [
      "BORRAT[1] --> natrix-maura=341\n",
      "BORRAT[2] --> ahaetulla-prasina=233\n",
      "BORRAT[3] --> phyllorhynchus-decurtatus=454\n",
      "BORRAT[4] --> zamenis-longissimus=490\n",
      "BORRAT[5] --> tropidoclonion-lineatum=404\n",
      "BORRAT[6] --> python-bivittatus=236\n",
      "BORRAT[7] --> naja-naja=285\n",
      "BORRAT[8] --> heterodon-nasicus=442\n",
      "BORRAT[9] --> vipera-aspis=410\n",
      "BORRAT[10] --> nerodia-cyclopion=457\n",
      "BORRAT[11] --> sistrurus-catenatus=379\n",
      "BORRAT[12] --> xenodon-rabdocephalus=294\n",
      "BORRAT[13] --> morelia-spilota=301\n",
      "BORRAT[14] --> sistrurus-miliarius=216\n",
      "BORRAT[15] --> virginia-valeriae=389\n",
      "BORRAT[16] --> coronella-austriaca=413\n",
      "BORRAT[17] --> natrix-tessellata=421\n",
      "BORRAT[18] --> pseudechis-porphyriacus=263\n"
     ]
    }
   ],
   "source": [
    "#delete_folders_if(\"train_2/\",0,499,test=False)"
   ]
  },
  {
   "cell_type": "code",
   "execution_count": 26,
   "metadata": {},
   "outputs": [
    {
     "name": "stdout",
     "output_type": "stream",
     "text": [
      "BORRAT[1] --> thamnophis-proximus=2111\n",
      "BORRAT[2] --> nerodia-erythrogaster=3343\n",
      "BORRAT[3] --> agkistrodon-contortrix=3552\n",
      "BORRAT[4] --> pantherophis-obsoletus=3705\n",
      "BORRAT[5] --> opheodrys-aestivus=2841\n",
      "BORRAT[6] --> lampropeltis-triangulum=2753\n",
      "BORRAT[7] --> agkistrodon-piscivorus=2849\n",
      "BORRAT[8] --> storeria-dekayi=3705\n",
      "BORRAT[9] --> nerodia-sipedon=3705\n",
      "BORRAT[10] --> haldea-striatula=1913\n",
      "BORRAT[11] --> pantherophis-alleghaniensis=2740\n",
      "BORRAT[12] --> pantherophis-guttatus=1876\n",
      "BORRAT[13] --> heterodon-platirhinos=2257\n",
      "BORRAT[14] --> coluber-constrictor=2037\n",
      "BORRAT[15] --> crotalus-atrox=3705\n",
      "BORRAT[16] --> nerodia-rhombifer=2194\n",
      "BORRAT[17] --> thamnophis-sirtalis=3705\n",
      "BORRAT[18] --> crotalus-horridus=2592\n",
      "BORRAT[19] --> pituophis-catenifer=3705\n",
      "BORRAT[20] --> diadophis-punctatus=3033\n",
      "BORRAT[21] --> lampropeltis-californiae=3324\n"
     ]
    }
   ],
   "source": [
    "#delete_folders_if(\"train_2/\",1783,14000,test=False)"
   ]
  },
  {
   "cell_type": "code",
   "execution_count": 35,
   "metadata": {},
   "outputs": [
    {
     "data": {
      "text/plain": [
       "85"
      ]
     },
     "execution_count": 35,
     "metadata": {},
     "output_type": "execute_result"
    }
   ],
   "source": [
    "root_1 = \"train_images/\"\n",
    "root_2 = \"train_2/\"\n",
    "\n",
    "nofiles = get_folders(root_1)\n",
    "len(nofiles)\n",
    "# \n",
    "\n"
   ]
  },
  {
   "cell_type": "code",
   "execution_count": 37,
   "metadata": {},
   "outputs": [],
   "source": [
    "def dict_images(root, inner_folders):\n",
    "    d={}\n",
    "    for fol in inner_folders:\n",
    "        folder = root + fol\n",
    "        alist = [f for f in listdir(folder) if isfile(join(folder, f))]\n",
    "        d[fol]=len(alist)\n",
    "    return d"
   ]
  },
  {
   "cell_type": "code",
   "execution_count": 38,
   "metadata": {},
   "outputs": [],
   "source": [
    "def get_dictionary(root):\n",
    "    d = dict_images(root,get_folders(root))\n",
    "    rank_dict = sorted(d.items(), key=lambda x: x[1],reverse=True)\n",
    "    return rank_dict\n"
   ]
  },
  {
   "cell_type": "code",
   "execution_count": 39,
   "metadata": {},
   "outputs": [],
   "source": [
    "df = pd.DataFrame.from_dict(get_dictionary(\"train_images/\"))\n",
    "df.columns=['serps','n']"
   ]
  },
  {
   "cell_type": "code",
   "execution_count": 40,
   "metadata": {},
   "outputs": [
    {
     "data": {
      "text/html": [
       "<div>\n",
       "<style scoped>\n",
       "    .dataframe tbody tr th:only-of-type {\n",
       "        vertical-align: middle;\n",
       "    }\n",
       "\n",
       "    .dataframe tbody tr th {\n",
       "        vertical-align: top;\n",
       "    }\n",
       "\n",
       "    .dataframe thead th {\n",
       "        text-align: right;\n",
       "    }\n",
       "</style>\n",
       "<table border=\"1\" class=\"dataframe\">\n",
       "  <thead>\n",
       "    <tr style=\"text-align: right;\">\n",
       "      <th></th>\n",
       "      <th>serps</th>\n",
       "      <th>n</th>\n",
       "    </tr>\n",
       "  </thead>\n",
       "  <tbody>\n",
       "    <tr>\n",
       "      <th>0</th>\n",
       "      <td>thamnophis-sirtalis</td>\n",
       "      <td>13754</td>\n",
       "    </tr>\n",
       "    <tr>\n",
       "      <th>1</th>\n",
       "      <td>storeria-dekayi</td>\n",
       "      <td>7466</td>\n",
       "    </tr>\n",
       "    <tr>\n",
       "      <th>2</th>\n",
       "      <td>pantherophis-obsoletus</td>\n",
       "      <td>7100</td>\n",
       "    </tr>\n",
       "    <tr>\n",
       "      <th>3</th>\n",
       "      <td>crotalus-atrox</td>\n",
       "      <td>6922</td>\n",
       "    </tr>\n",
       "    <tr>\n",
       "      <th>4</th>\n",
       "      <td>pituophis-catenifer</td>\n",
       "      <td>4976</td>\n",
       "    </tr>\n",
       "    <tr>\n",
       "      <th>5</th>\n",
       "      <td>nerodia-sipedon</td>\n",
       "      <td>4549</td>\n",
       "    </tr>\n",
       "    <tr>\n",
       "      <th>6</th>\n",
       "      <td>agkistrodon-contortrix</td>\n",
       "      <td>3552</td>\n",
       "    </tr>\n",
       "    <tr>\n",
       "      <th>7</th>\n",
       "      <td>nerodia-erythrogaster</td>\n",
       "      <td>3343</td>\n",
       "    </tr>\n",
       "    <tr>\n",
       "      <th>8</th>\n",
       "      <td>lampropeltis-californiae</td>\n",
       "      <td>3324</td>\n",
       "    </tr>\n",
       "    <tr>\n",
       "      <th>9</th>\n",
       "      <td>diadophis-punctatus</td>\n",
       "      <td>3033</td>\n",
       "    </tr>\n",
       "  </tbody>\n",
       "</table>\n",
       "</div>"
      ],
      "text/plain": [
       "                      serps      n\n",
       "0       thamnophis-sirtalis  13754\n",
       "1           storeria-dekayi   7466\n",
       "2    pantherophis-obsoletus   7100\n",
       "3            crotalus-atrox   6922\n",
       "4       pituophis-catenifer   4976\n",
       "5           nerodia-sipedon   4549\n",
       "6    agkistrodon-contortrix   3552\n",
       "7     nerodia-erythrogaster   3343\n",
       "8  lampropeltis-californiae   3324\n",
       "9       diadophis-punctatus   3033"
      ]
     },
     "execution_count": 40,
     "metadata": {},
     "output_type": "execute_result"
    },
    {
     "data": {
      "text/plain": [
       "array([[<matplotlib.axes._subplots.AxesSubplot object at 0x000001ABCA2D4D30>]],\n",
       "      dtype=object)"
      ]
     },
     "execution_count": 40,
     "metadata": {},
     "output_type": "execute_result"
    },
    {
     "data": {
      "text/html": [
       "<div>\n",
       "<style scoped>\n",
       "    .dataframe tbody tr th:only-of-type {\n",
       "        vertical-align: middle;\n",
       "    }\n",
       "\n",
       "    .dataframe tbody tr th {\n",
       "        vertical-align: top;\n",
       "    }\n",
       "\n",
       "    .dataframe thead th {\n",
       "        text-align: right;\n",
       "    }\n",
       "</style>\n",
       "<table border=\"1\" class=\"dataframe\">\n",
       "  <thead>\n",
       "    <tr style=\"text-align: right;\">\n",
       "      <th></th>\n",
       "      <th>serps</th>\n",
       "      <th>n</th>\n",
       "    </tr>\n",
       "  </thead>\n",
       "  <tbody>\n",
       "    <tr>\n",
       "      <th>75</th>\n",
       "      <td>morelia-spilota</td>\n",
       "      <td>301</td>\n",
       "    </tr>\n",
       "    <tr>\n",
       "      <th>76</th>\n",
       "      <td>xenodon-rabdocephalus</td>\n",
       "      <td>294</td>\n",
       "    </tr>\n",
       "    <tr>\n",
       "      <th>77</th>\n",
       "      <td>naja-naja</td>\n",
       "      <td>285</td>\n",
       "    </tr>\n",
       "    <tr>\n",
       "      <th>78</th>\n",
       "      <td>pseudechis-porphyriacus</td>\n",
       "      <td>263</td>\n",
       "    </tr>\n",
       "    <tr>\n",
       "      <th>79</th>\n",
       "      <td>python-bivittatus</td>\n",
       "      <td>236</td>\n",
       "    </tr>\n",
       "    <tr>\n",
       "      <th>80</th>\n",
       "      <td>ahaetulla-prasina</td>\n",
       "      <td>233</td>\n",
       "    </tr>\n",
       "    <tr>\n",
       "      <th>81</th>\n",
       "      <td>sistrurus-miliarius</td>\n",
       "      <td>216</td>\n",
       "    </tr>\n",
       "    <tr>\n",
       "      <th>82</th>\n",
       "      <td>epicrates-cenchria</td>\n",
       "      <td>128</td>\n",
       "    </tr>\n",
       "    <tr>\n",
       "      <th>83</th>\n",
       "      <td>python-regius</td>\n",
       "      <td>77</td>\n",
       "    </tr>\n",
       "    <tr>\n",
       "      <th>84</th>\n",
       "      <td>vermicella-annulata</td>\n",
       "      <td>30</td>\n",
       "    </tr>\n",
       "  </tbody>\n",
       "</table>\n",
       "</div>"
      ],
      "text/plain": [
       "                      serps    n\n",
       "75          morelia-spilota  301\n",
       "76    xenodon-rabdocephalus  294\n",
       "77                naja-naja  285\n",
       "78  pseudechis-porphyriacus  263\n",
       "79        python-bivittatus  236\n",
       "80        ahaetulla-prasina  233\n",
       "81      sistrurus-miliarius  216\n",
       "82       epicrates-cenchria  128\n",
       "83            python-regius   77\n",
       "84      vermicella-annulata   30"
      ]
     },
     "execution_count": 40,
     "metadata": {},
     "output_type": "execute_result"
    },
    {
     "data": {
      "image/png": "[encoded data removed]",
      "text/plain": [
       "<Figure size 432x288 with 1 Axes>"
      ]
     },
     "metadata": {
      "needs_background": "light"
     },
     "output_type": "display_data"
    }
   ],
   "source": [
    "df.head(10)\n",
    "df.hist();\n",
    "df.tail(10)"
   ]
  },
  {
   "cell_type": "code",
   "execution_count": 41,
   "metadata": {},
   "outputs": [
    {
     "data": {
      "text/html": [
       "<div>\n",
       "<style scoped>\n",
       "    .dataframe tbody tr th:only-of-type {\n",
       "        vertical-align: middle;\n",
       "    }\n",
       "\n",
       "    .dataframe tbody tr th {\n",
       "        vertical-align: top;\n",
       "    }\n",
       "\n",
       "    .dataframe thead th {\n",
       "        text-align: right;\n",
       "    }\n",
       "</style>\n",
       "<table border=\"1\" class=\"dataframe\">\n",
       "  <thead>\n",
       "    <tr style=\"text-align: right;\">\n",
       "      <th></th>\n",
       "      <th>n</th>\n",
       "    </tr>\n",
       "  </thead>\n",
       "  <tbody>\n",
       "    <tr>\n",
       "      <th>count</th>\n",
       "      <td>85.000000</td>\n",
       "    </tr>\n",
       "    <tr>\n",
       "      <th>mean</th>\n",
       "      <td>1526.800000</td>\n",
       "    </tr>\n",
       "    <tr>\n",
       "      <th>std</th>\n",
       "      <td>2019.388255</td>\n",
       "    </tr>\n",
       "    <tr>\n",
       "      <th>min</th>\n",
       "      <td>30.000000</td>\n",
       "    </tr>\n",
       "    <tr>\n",
       "      <th>25%</th>\n",
       "      <td>500.000000</td>\n",
       "    </tr>\n",
       "    <tr>\n",
       "      <th>50%</th>\n",
       "      <td>762.000000</td>\n",
       "    </tr>\n",
       "    <tr>\n",
       "      <th>75%</th>\n",
       "      <td>1782.000000</td>\n",
       "    </tr>\n",
       "    <tr>\n",
       "      <th>max</th>\n",
       "      <td>13754.000000</td>\n",
       "    </tr>\n",
       "  </tbody>\n",
       "</table>\n",
       "</div>"
      ],
      "text/plain": [
       "                  n\n",
       "count     85.000000\n",
       "mean    1526.800000\n",
       "std     2019.388255\n",
       "min       30.000000\n",
       "25%      500.000000\n",
       "50%      762.000000\n",
       "75%     1782.000000\n",
       "max    13754.000000"
      ]
     },
     "execution_count": 41,
     "metadata": {},
     "output_type": "execute_result"
    },
    {
     "data": {
      "text/plain": [
       "<matplotlib.axes._subplots.AxesSubplot at 0x1abca840e80>"
      ]
     },
     "execution_count": 41,
     "metadata": {},
     "output_type": "execute_result"
    },
    {
     "data": {
      "image/png": "[encoded data removed]",
      "text/plain": [
       "<Figure size 432x288 with 1 Axes>"
      ]
     },
     "metadata": {
      "needs_background": "light"
     },
     "output_type": "display_data"
    }
   ],
   "source": [
    "df.describe()\n",
    "df.boxplot()"
   ]
  },
  {
   "cell_type": "code",
   "execution_count": 10,
   "metadata": {},
   "outputs": [],
   "source": [
    "from shutil import copyfile\n",
    "import random\n",
    "\n",
    "def create_dir(path_):\n",
    "    if not os.path.exists(path_):\n",
    "        os.mkdir(path_)\n",
    "        return 0\n",
    "    else:\n",
    "        thisfol = [f for f in listdir(path_) if isfile(join(path_, f))]\n",
    "    return len(thisfol)\n",
    "    \n",
    "def min_max(min_force=0,max_force=14000):\n",
    "    q1 = float(df.quantile(.25, axis = 0))\n",
    "    q3 = float(df.quantile(.75, axis = 0))\n",
    "    iqr = q3 - q1\n",
    "    mi = int(max(min_force, q1 - (1.5 * iqr)))\n",
    "    ma = int(min(max_force, q3 +1.5*iqr))\n",
    "    return mi, ma\n",
    "\n",
    "def get_list(folder, dest):\n",
    "    ori = [folder+'/'+f for f in listdir(folder) if isfile(join(folder, f))]\n",
    "    desti = [dest+'/'+f for f in listdir(folder) if isfile(join(folder, f))]\n",
    "    return ori, desti\n",
    "\n",
    "def cp(ori,desti):\n",
    "    \n",
    "    for f_ori, f_dest in zip(ori,desti):\n",
    "        copyfile(f_ori, f_dest)\n",
    "\n",
    "def copy_images(nofiles):\n",
    "    mi, ma = min_max(200,500)\n",
    "    root = \"train_images/\"\n",
    "    r2 = \"train_2/\"\n",
    "    create_dir(r2)\n",
    "    \n",
    "    for i,fol in enumerate(nofiles):\n",
    "        folder = root + fol\n",
    "        dest_folder = r2 +fol\n",
    "        ori, desti = get_list(folder, dest_folder)\n",
    "        try:\n",
    "            ender=\", EXIST\"\n",
    "            if len(ori) > mi and len(ori) <= ma:\n",
    "                if create_dir(dest_folder) == 0:\n",
    "                    cp(ori, desti)\n",
    "                    ender=\", created\" \n",
    "                print(\"[\"+str(i)+\"]\"+dest_folder+\": \"+str(len(ori))+\", mi=\"+str(mi)+\", ma=\"+str(ma)+ender)\n",
    "            elif  len(ori) > ma:\n",
    "                if create_dir(dest_folder) == 0:\n",
    "                    ender=\", created\" \n",
    "                    ori=ori[:ma]\n",
    "                    desti=desti[:ma]\n",
    "                    cp(ori, desti)\n",
    "                print(\"[\"+str(i)+\"]\"+dest_folder+\": \"+str(len(ori))+\", ma=\"+str(ma)+ender)\n",
    "                #random.seed(123)\n",
    "                #samples = random.sample(li,len(li))\n",
    "            else:\n",
    "                print(\"##  NOT WRITED: \"+folder+str(len(ori))+\", mi=\"+str(mi)+\", ma=\"+str(ma))\n",
    "        except:\n",
    "            print(ori[:1])\n",
    "            print(desti[:1])\n",
    "            stop"
   ]
  },
  {
   "cell_type": "code",
   "execution_count": 42,
   "metadata": {},
   "outputs": [
    {
     "name": "stdout",
     "output_type": "stream",
     "text": [
      "[0]train_2/agkistrodon-contortrix: 500, ma=500, created\n",
      "[1]train_2/agkistrodon-piscivorus: 500, ma=500, created\n",
      "[2]train_2/ahaetulla-prasina: 233, mi=200, ma=500, created\n",
      "[3]train_2/arizona-elegans: 500, ma=500, created\n",
      "[4]train_2/boa-imperator: 500, ma=500, created\n",
      "[5]train_2/bothriechis-schlegelii: 500, ma=500, created\n",
      "[6]train_2/bothrops-asper: 500, ma=500, created\n",
      "[7]train_2/carphophis-amoenus: 500, ma=500, created\n",
      "[8]train_2/charina-bottae: 500, ma=500, created\n",
      "[9]train_2/coluber-constrictor: 500, ma=500, created\n",
      "[10]train_2/contia-tenuis: 500, ma=500, created\n",
      "[11]train_2/coronella-austriaca: 413, mi=200, ma=500, created\n",
      "[12]train_2/crotalus-adamanteus: 500, ma=500, created\n",
      "[13]train_2/crotalus-atrox: 500, ma=500, created\n",
      "[14]train_2/crotalus-cerastes: 500, ma=500, created\n",
      "[15]train_2/crotalus-horridus: 500, ma=500, created\n",
      "[16]train_2/crotalus-molossus: 500, ma=500, created\n",
      "[17]train_2/crotalus-oreganus: 500, ma=500, created\n",
      "[18]train_2/crotalus-ornatus: 500, ma=500, created\n",
      "[19]train_2/crotalus-pyrrhus: 500, ma=500, created\n",
      "[20]train_2/crotalus-ruber: 500, ma=500, created\n",
      "[21]train_2/crotalus-scutulatus: 500, ma=500, created\n",
      "[22]train_2/crotalus-viridis: 500, ma=500, created\n",
      "[23]train_2/diadophis-punctatus: 500, ma=500, created\n",
      "##  NOT WRITED: train_images/epicrates-cenchria128, mi=200, ma=500\n",
      "[25]train_2/haldea-striatula: 500, ma=500, created\n",
      "[26]train_2/heterodon-nasicus: 442, mi=200, ma=500, created\n",
      "[27]train_2/heterodon-platirhinos: 500, ma=500, created\n",
      "[28]train_2/hierophis-viridiflavus: 500, ma=500, created\n",
      "[29]train_2/hypsiglena-jani: 500, mi=200, ma=500, created\n",
      "[30]train_2/lampropeltis-californiae: 500, ma=500, created\n",
      "[31]train_2/lampropeltis-getula: 500, ma=500, created\n",
      "[32]train_2/lampropeltis-holbrooki: 500, ma=500, created\n",
      "[33]train_2/lampropeltis-triangulum: 500, ma=500, created\n",
      "[34]train_2/lichanura-trivirgata: 500, ma=500, created\n",
      "[35]train_2/masticophis-flagellum: 500, ma=500, created\n",
      "[36]train_2/micrurus-tener: 500, ma=500, created\n",
      "[37]train_2/morelia-spilota: 301, mi=200, ma=500, created\n",
      "[38]train_2/naja-naja: 285, mi=200, ma=500, created\n",
      "[39]train_2/natrix-maura: 341, mi=200, ma=500, created\n",
      "[40]train_2/natrix-natrix: 500, ma=500, created\n",
      "[41]train_2/natrix-tessellata: 421, mi=200, ma=500, created\n",
      "[42]train_2/nerodia-cyclopion: 457, mi=200, ma=500, created\n",
      "[43]train_2/nerodia-erythrogaster: 500, ma=500, created\n",
      "[44]train_2/nerodia-fasciata: 500, ma=500, created\n",
      "[45]train_2/nerodia-rhombifer: 500, ma=500, created\n",
      "[46]train_2/nerodia-sipedon: 500, ma=500, created\n",
      "[47]train_2/nerodia-taxispilota: 500, ma=500, created\n",
      "[48]train_2/opheodrys-aestivus: 500, ma=500, created\n",
      "[49]train_2/opheodrys-vernalis: 500, ma=500, created\n",
      "[50]train_2/pantherophis-alleghaniensis: 500, ma=500, created\n",
      "[51]train_2/pantherophis-emoryi: 500, ma=500, created\n",
      "[52]train_2/pantherophis-guttatus: 500, ma=500, created\n",
      "[53]train_2/pantherophis-obsoletus: 500, ma=500, created\n",
      "[54]train_2/pantherophis-spiloides: 500, ma=500, created\n",
      "[55]train_2/pantherophis-vulpinus: 500, ma=500, created\n",
      "[56]train_2/phyllorhynchus-decurtatus: 454, mi=200, ma=500, created\n",
      "[57]train_2/pituophis-catenifer: 500, ma=500, created\n",
      "[58]train_2/pseudechis-porphyriacus: 263, mi=200, ma=500, created\n",
      "[59]train_2/python-bivittatus: 236, mi=200, ma=500, created\n",
      "##  NOT WRITED: train_images/python-regius77, mi=200, ma=500\n",
      "[61]train_2/regina-septemvittata: 500, ma=500, created\n",
      "[62]train_2/rena-dulcis: 500, ma=500, created\n",
      "[63]train_2/rhinocheilus-lecontei: 500, ma=500, created\n",
      "[64]train_2/sistrurus-catenatus: 379, mi=200, ma=500, created\n",
      "[65]train_2/sistrurus-miliarius: 216, mi=200, ma=500, created\n",
      "[66]train_2/sonora-semiannulata: 500, ma=500, created\n",
      "[67]train_2/storeria-dekayi: 500, ma=500, created\n",
      "[68]train_2/storeria-occipitomaculata: 500, ma=500, created\n",
      "[69]train_2/tantilla-gracilis: 500, ma=500, created\n",
      "[70]train_2/thamnophis-cyrtopsis: 500, ma=500, created\n",
      "[71]train_2/thamnophis-elegans: 500, ma=500, created\n",
      "[72]train_2/thamnophis-hammondii: 500, ma=500, created\n",
      "[73]train_2/thamnophis-marcianus: 500, ma=500, created\n",
      "[74]train_2/thamnophis-ordinoides: 500, ma=500, created\n",
      "[75]train_2/thamnophis-proximus: 500, ma=500, created\n",
      "[76]train_2/thamnophis-radix: 500, ma=500, created\n",
      "[77]train_2/thamnophis-sirtalis: 500, ma=500, created\n",
      "[78]train_2/tropidoclonion-lineatum: 404, mi=200, ma=500, created\n",
      "##  NOT WRITED: train_images/vermicella-annulata30, mi=200, ma=500\n",
      "[80]train_2/vipera-aspis: 410, mi=200, ma=500, created\n",
      "[81]train_2/vipera-berus: 500, ma=500, created\n",
      "[82]train_2/virginia-valeriae: 389, mi=200, ma=500, created\n",
      "[83]train_2/xenodon-rabdocephalus: 294, mi=200, ma=500, created\n",
      "[84]train_2/zamenis-longissimus: 490, mi=200, ma=500, created\n"
     ]
    }
   ],
   "source": [
    "test_folders = ['python-regius','vermicella-annulata','crotalus-ruber']\n",
    "#copy_images(test_folders)\n",
    "copy_images(nofiles)\n"
   ]
  },
  {
   "cell_type": "code",
   "execution_count": null,
   "metadata": {},
   "outputs": [],
   "source": []
  },
  {
   "cell_type": "code",
   "execution_count": 14,
   "metadata": {},
   "outputs": [],
   "source": [
    "alist = ['test_images_small.tar.gz','test_metadata_small.tar.gz','train_images.tar.gz',\n",
    "        'train_labels.tar.gz'] #'test_images_small.tar.gz',"
   ]
  },
  {
   "cell_type": "code",
   "execution_count": 15,
   "metadata": {},
   "outputs": [],
   "source": [
    "def extract():\n",
    "    folder=\"data/\"\n",
    "    for fname in alist:\n",
    "        if (fname.endswith(\"tar.gz\")):\n",
    "            tar = tarfile.open(folder+fname, \"r:gz\")\n",
    "            tar.extractall()\n",
    "            tar.close()\n",
    "        elif (fname.endswith(\"tar\")):\n",
    "            tar = tarfile.open(folder+fname, \"r:\")\n",
    "            tar.extractall()\n",
    "            tar.close()"
   ]
  },
  {
   "cell_type": "code",
   "execution_count": 16,
   "metadata": {},
   "outputs": [],
   "source": [
    "# extract()"
   ]
  },
  {
   "cell_type": "code",
   "execution_count": 33,
   "metadata": {},
   "outputs": [],
   "source": [
    "def get_files_size(path):\n",
    "    ph = []\n",
    "    for root, dirs, files in os.walk(path):\n",
    "        for filename in files:\n",
    "            path = os.path.join(root, filename)\n",
    "            size = os.stat(path).st_size # in bytes\n",
    "            if size < 500:\n",
    "                print(\"<500:\",filename, size)\n",
    "            ph.append((filename, size))\n",
    "        return ph"
   ]
  },
  {
   "cell_type": "code",
   "execution_count": 19,
   "metadata": {},
   "outputs": [
    {
     "name": "stdout",
     "output_type": "stream",
     "text": [
      "85\n",
      "['agkistrodon-contortrix', 'agkistrodon-piscivorus']\n"
     ]
    }
   ],
   "source": [
    "folders = get_folders(\"train_processed2/train/\")\n",
    "print(len(folders))\n",
    "print(folders[:2])"
   ]
  },
  {
   "cell_type": "code",
   "execution_count": 20,
   "metadata": {},
   "outputs": [],
   "source": [
    "path = \"train_processed2/train/\" + folders[0]\n",
    "sorted_by_second = sorted(get_files_size(path), key=lambda tup: tup[1])"
   ]
  },
  {
   "cell_type": "code",
   "execution_count": 21,
   "metadata": {},
   "outputs": [
    {
     "name": "stdout",
     "output_type": "stream",
     "text": [
      "2841\n",
      "[('0dda37b608.jpg', 13654), ('7e7b19bdec.jpg', 15902)]\n"
     ]
    }
   ],
   "source": [
    "print(len(sorted_by_second))\n",
    "print(sorted_by_second[:2])\n"
   ]
  },
  {
   "cell_type": "code",
   "execution_count": 22,
   "metadata": {},
   "outputs": [
    {
     "data": {
      "text/plain": [
       "'.jpg'"
      ]
     },
     "execution_count": 22,
     "metadata": {},
     "output_type": "execute_result"
    }
   ],
   "source": [
    "sorted_by_second[0][0][-4:]"
   ]
  },
  {
   "cell_type": "code",
   "execution_count": 34,
   "metadata": {},
   "outputs": [],
   "source": [
    "def delete_if_bad(path, sorted_by_second):\n",
    "    deleting = []\n",
    "    deleting.append(path+str(len(sorted_by_second)))\n",
    "    for (im, byts) in sorted_by_second:\n",
    "        try:\n",
    "            im = Image.open(path+im)\n",
    "        except:\n",
    "            deleting.append(path+im)\n",
    "            os.remove(path+im)\n",
    "    return deleting"
   ]
  },
  {
   "cell_type": "code",
   "execution_count": 27,
   "metadata": {},
   "outputs": [],
   "source": [
    "def del_inner_folders_bad_files(path):\n",
    "    folders = get_folders(path)\n",
    "    deleted=[]\n",
    "    for folder in folders:\n",
    "        path_in = path+folder+\"/\"\n",
    "        sorted_by_second = sorted(get_files_size(path_in), key=lambda tup: tup[1])\n",
    "        deleted.append(delete_if_bad(path_in, sorted_by_second))\n",
    "    return deleted"
   ]
  },
  {
   "cell_type": "code",
   "execution_count": 37,
   "metadata": {},
   "outputs": [],
   "source": [
    "path = \"train_processed2/train/\"\n",
    "deleted_train = del_inner_folders_bad_files(path)\n",
    "\n",
    "path = \"train_processed2/validation/\"\n",
    "deleted_val = del_inner_folders_bad_files(path)"
   ]
  },
  {
   "cell_type": "code",
   "execution_count": 38,
   "metadata": {},
   "outputs": [
    {
     "name": "stdout",
     "output_type": "stream",
     "text": [
      "85\n",
      "[['train_processed2/train/agkistrodon-contortrix/2841'], ['train_processed2/train/agkistrodon-piscivorus/2279'], ['train_processed2/train/ahaetulla-prasina/186'], ['train_processed2/train/arizona-elegans/496'], ['train_processed2/train/boa-imperator/646'], ['train_processed2/train/bothriechis-schlegelii/401'], ['train_processed2/train/bothrops-asper/411'], ['train_processed2/train/carphophis-amoenus/726'], ['train_processed2/train/charina-bottae/626'], ['train_processed2/train/coluber-constrictor/1630'], ['train_processed2/train/contia-tenuis/540'], ['train_processed2/train/coronella-austriaca/330'], ['train_processed2/train/crotalus-adamanteus/627'], ['train_processed2/train/crotalus-atrox/4000'], ['train_processed2/train/crotalus-cerastes/428'], ['train_processed2/train/crotalus-horridus/2074'], ['train_processed2/train/crotalus-molossus/430'], ['train_processed2/train/crotalus-oreganus/449'], ['train_processed2/train/crotalus-ornatus/429'], ['train_processed2/train/crotalus-pyrrhus/769'], ['train_processed2/train/crotalus-ruber/1065'], ['train_processed2/train/crotalus-scutulatus/989'], ['train_processed2/train/crotalus-viridis/1156'], ['train_processed2/train/diadophis-punctatus/2425'], ['train_processed2/train/epicrates-cenchria/102'], ['train_processed2/train/haldea-striatula/1530'], ['train_processed2/train/heterodon-nasicus/354'], ['train_processed2/train/heterodon-platirhinos/1805'], ['train_processed2/train/hierophis-viridiflavus/610'], ['train_processed2/train/hypsiglena-jani/399'], ['train_processed2/train/lampropeltis-californiae/2658'], ['train_processed2/train/lampropeltis-getula/426'], ['train_processed2/train/lampropeltis-holbrooki/602'], ['train_processed2/train/lampropeltis-triangulum/2202'], ['train_processed2/train/lichanura-trivirgata/490'], ['train_processed2/train/masticophis-flagellum/1175'], ['train_processed2/train/micrurus-tener/500'], ['train_processed2/train/morelia-spilota/241'], ['train_processed2/train/naja-naja/228'], ['train_processed2/train/natrix-maura/273'], ['train_processed2/train/natrix-natrix/919'], ['train_processed2/train/natrix-tessellata/337'], ['train_processed2/train/nerodia-cyclopion/366'], ['train_processed2/train/nerodia-erythrogaster/2673'], ['train_processed2/train/nerodia-fasciata/902'], ['train_processed2/train/nerodia-rhombifer/1752'], ['train_processed2/train/nerodia-sipedon/3638'], ['train_processed2/train/nerodia-taxispilota/554'], ['train_processed2/train/opheodrys-aestivus/2272'], ['train_processed2/train/opheodrys-vernalis/821'], ['train_processed2/train/pantherophis-alleghaniensis/2192'], ['train_processed2/train/pantherophis-emoryi/1023'], ['train_processed2/train/pantherophis-guttatus/1501'], ['train_processed2/train/pantherophis-obsoletus/4000'], ['train_processed2/train/pantherophis-spiloides/1205'], ['train_processed2/train/pantherophis-vulpinus/1198'], ['train_processed2/train/phyllorhynchus-decurtatus/363'], ['train_processed2/train/pituophis-catenifer/3981'], ['train_processed2/train/pseudechis-porphyriacus/210'], ['train_processed2/train/python-bivittatus/188'], ['train_processed2/train/python-regius/62'], ['train_processed2/train/regina-septemvittata/578'], ['train_processed2/train/rena-dulcis/462'], ['train_processed2/train/rhinocheilus-lecontei/1407'], ['train_processed2/train/sistrurus-catenatus/303'], ['train_processed2/train/sistrurus-miliarius/173'], ['train_processed2/train/sonora-semiannulata/405'], ['train_processed2/train/storeria-dekayi/4000'], ['train_processed2/train/storeria-occipitomaculata/1157'], ['train_processed2/train/tantilla-gracilis/421'], ['train_processed2/train/thamnophis-cyrtopsis/411'], ['train_processed2/train/thamnophis-elegans/919'], ['train_processed2/train/thamnophis-hammondii/494'], ['train_processed2/train/thamnophis-marcianus/1286'], ['train_processed2/train/thamnophis-ordinoides/682'], ['train_processed2/train/thamnophis-proximus/1688'], ['train_processed2/train/thamnophis-radix/1426'], ['train_processed2/train/thamnophis-sirtalis/4000'], ['train_processed2/train/tropidoclonion-lineatum/322'], ['train_processed2/train/vermicella-annulata/24'], ['train_processed2/train/vipera-aspis/327'], ['train_processed2/train/vipera-berus/477'], ['train_processed2/train/virginia-valeriae/311'], ['train_processed2/train/xenodon-rabdocephalus/235'], ['train_processed2/train/zamenis-longissimus/392']]\n",
      "85\n",
      "[['train_processed2/validation/agkistrodon-contortrix/710'], ['train_processed2/validation/agkistrodon-piscivorus/570'], ['train_processed2/validation/ahaetulla-prasina/47'], ['train_processed2/validation/arizona-elegans/124'], ['train_processed2/validation/boa-imperator/161'], ['train_processed2/validation/bothriechis-schlegelii/100'], ['train_processed2/validation/bothrops-asper/103'], ['train_processed2/validation/carphophis-amoenus/181'], ['train_processed2/validation/charina-bottae/157'], ['train_processed2/validation/coluber-constrictor/407'], ['train_processed2/validation/contia-tenuis/135'], ['train_processed2/validation/coronella-austriaca/82'], ['train_processed2/validation/crotalus-adamanteus/157'], ['train_processed2/validation/crotalus-atrox/1384'], ['train_processed2/validation/crotalus-cerastes/107'], ['train_processed2/validation/crotalus-horridus/518'], ['train_processed2/validation/crotalus-molossus/108'], ['train_processed2/validation/crotalus-oreganus/112'], ['train_processed2/validation/crotalus-ornatus/107'], ['train_processed2/validation/crotalus-pyrrhus/192'], ['train_processed2/validation/crotalus-ruber/266'], ['train_processed2/validation/crotalus-scutulatus/247'], ['train_processed2/validation/crotalus-viridis/289'], ['train_processed2/validation/diadophis-punctatus/606'], ['train_processed2/validation/epicrates-cenchria/26'], ['train_processed2/validation/haldea-striatula/382'], ['train_processed2/validation/heterodon-nasicus/88'], ['train_processed2/validation/heterodon-platirhinos/451'], ['train_processed2/validation/hierophis-viridiflavus/152'], ['train_processed2/validation/hypsiglena-jani/100'], ['train_processed2/validation/lampropeltis-californiae/665'], ['train_processed2/validation/lampropeltis-getula/106'], ['train_processed2/validation/lampropeltis-holbrooki/151'], ['train_processed2/validation/lampropeltis-triangulum/550'], ['train_processed2/validation/lichanura-trivirgata/122'], ['train_processed2/validation/masticophis-flagellum/294'], ['train_processed2/validation/micrurus-tener/125'], ['train_processed2/validation/morelia-spilota/60'], ['train_processed2/validation/naja-naja/57'], ['train_processed2/validation/natrix-maura/68'], ['train_processed2/validation/natrix-natrix/230'], ['train_processed2/validation/natrix-tessellata/84'], ['train_processed2/validation/nerodia-cyclopion/91'], ['train_processed2/validation/nerodia-erythrogaster/668'], ['train_processed2/validation/nerodia-fasciata/226'], ['train_processed2/validation/nerodia-rhombifer/438'], ['train_processed2/validation/nerodia-sipedon/910'], ['train_processed2/validation/nerodia-taxispilota/139'], ['train_processed2/validation/opheodrys-aestivus/568'], ['train_processed2/validation/opheodrys-vernalis/205'], ['train_processed2/validation/pantherophis-alleghaniensis/548'], ['train_processed2/validation/pantherophis-emoryi/256'], ['train_processed2/validation/pantherophis-guttatus/375'], ['train_processed2/validation/pantherophis-obsoletus/1420'], ['train_processed2/validation/pantherophis-spiloides/301'], ['train_processed2/validation/pantherophis-vulpinus/300'], ['train_processed2/validation/phyllorhynchus-decurtatus/91'], ['train_processed2/validation/pituophis-catenifer/995'], ['train_processed2/validation/pseudechis-porphyriacus/53'], ['train_processed2/validation/python-bivittatus/47'], ['train_processed2/validation/python-regius/15'], ['train_processed2/validation/regina-septemvittata/144'], ['train_processed2/validation/rena-dulcis/116'], ['train_processed2/validation/rhinocheilus-lecontei/352'], ['train_processed2/validation/sistrurus-catenatus/76'], ['train_processed2/validation/sistrurus-miliarius/43'], ['train_processed2/validation/sonora-semiannulata/101'], ['train_processed2/validation/storeria-dekayi/1492'], ['train_processed2/validation/storeria-occipitomaculata/289'], ['train_processed2/validation/tantilla-gracilis/105'], ['train_processed2/validation/thamnophis-cyrtopsis/103'], ['train_processed2/validation/thamnophis-elegans/230'], ['train_processed2/validation/thamnophis-hammondii/124'], ['train_processed2/validation/thamnophis-marcianus/321'], ['train_processed2/validation/thamnophis-ordinoides/171'], ['train_processed2/validation/thamnophis-proximus/422'], ['train_processed2/validation/thamnophis-radix/356'], ['train_processed2/validation/thamnophis-sirtalis/2748'], ['train_processed2/validation/tropidoclonion-lineatum/80'], ['train_processed2/validation/vermicella-annulata/6'], ['train_processed2/validation/vipera-aspis/82'], ['train_processed2/validation/vipera-berus/119'], ['train_processed2/validation/virginia-valeriae/78'], ['train_processed2/validation/xenodon-rabdocephalus/59'], ['train_processed2/validation/zamenis-longissimus/98']]\n"
     ]
    }
   ],
   "source": [
    "print(len(deleted_train))\n",
    "print(deleted_train)\n",
    "print(len(deleted_val))\n",
    "print(deleted_val)"
   ]
  },
  {
   "cell_type": "code",
   "execution_count": 11,
   "metadata": {},
   "outputs": [],
   "source": [
    "def fotli():\n",
    "    for (im,size) in sorted_by_second:\n",
    "        if im[-4:] not in ['.jpg','jpeg','.png','.ppm','.bmp','.pgm','.tif','tiff','webp']:\n",
    "            print(im)"
   ]
  },
  {
   "cell_type": "code",
   "execution_count": 14,
   "metadata": {},
   "outputs": [],
   "source": [
    "import pandas as pd"
   ]
  },
  {
   "cell_type": "code",
   "execution_count": 24,
   "metadata": {},
   "outputs": [],
   "source": [
    "frame = pd.read_csv('train_labels.csv')"
   ]
  },
  {
   "cell_type": "code",
   "execution_count": 25,
   "metadata": {},
   "outputs": [
    {
     "data": {
      "text/html": [
       "<div>\n",
       "<style scoped>\n",
       "    .dataframe tbody tr th:only-of-type {\n",
       "        vertical-align: middle;\n",
       "    }\n",
       "\n",
       "    .dataframe tbody tr th {\n",
       "        vertical-align: top;\n",
       "    }\n",
       "\n",
       "    .dataframe thead th {\n",
       "        text-align: right;\n",
       "    }\n",
       "</style>\n",
       "<table border=\"1\" class=\"dataframe\">\n",
       "  <thead>\n",
       "    <tr style=\"text-align: right;\">\n",
       "      <th></th>\n",
       "      <th>hashed_id</th>\n",
       "      <th>country</th>\n",
       "      <th>continent</th>\n",
       "      <th>scientific_name</th>\n",
       "      <th>filename</th>\n",
       "    </tr>\n",
       "  </thead>\n",
       "  <tbody>\n",
       "    <tr>\n",
       "      <th>0</th>\n",
       "      <td>fd148672d8</td>\n",
       "      <td>United States of America</td>\n",
       "      <td>North America</td>\n",
       "      <td>nerodia-sipedon</td>\n",
       "      <td>fd148672d8.jpg</td>\n",
       "    </tr>\n",
       "    <tr>\n",
       "      <th>1</th>\n",
       "      <td>09874637dc</td>\n",
       "      <td>United States of America</td>\n",
       "      <td>North America</td>\n",
       "      <td>nerodia-sipedon</td>\n",
       "      <td>09874637dc.jpg</td>\n",
       "    </tr>\n",
       "    <tr>\n",
       "      <th>2</th>\n",
       "      <td>12da366539</td>\n",
       "      <td>United States of America</td>\n",
       "      <td>North America</td>\n",
       "      <td>nerodia-sipedon</td>\n",
       "      <td>12da366539.jpg</td>\n",
       "    </tr>\n",
       "    <tr>\n",
       "      <th>3</th>\n",
       "      <td>69b2c09380</td>\n",
       "      <td>United States of America</td>\n",
       "      <td>North America</td>\n",
       "      <td>pantherophis-obsoletus</td>\n",
       "      <td>69b2c09380.jpg</td>\n",
       "    </tr>\n",
       "    <tr>\n",
       "      <th>4</th>\n",
       "      <td>c32413ddbb</td>\n",
       "      <td>United States of America</td>\n",
       "      <td>North America</td>\n",
       "      <td>crotalus-horridus</td>\n",
       "      <td>c32413ddbb.jpg</td>\n",
       "    </tr>\n",
       "  </tbody>\n",
       "</table>\n",
       "</div>"
      ],
      "text/plain": [
       "    hashed_id                   country      continent  \\\n",
       "0  fd148672d8  United States of America  North America   \n",
       "1  09874637dc  United States of America  North America   \n",
       "2  12da366539  United States of America  North America   \n",
       "3  69b2c09380  United States of America  North America   \n",
       "4  c32413ddbb  United States of America  North America   \n",
       "\n",
       "          scientific_name        filename  \n",
       "0         nerodia-sipedon  fd148672d8.jpg  \n",
       "1         nerodia-sipedon  09874637dc.jpg  \n",
       "2         nerodia-sipedon  12da366539.jpg  \n",
       "3  pantherophis-obsoletus  69b2c09380.jpg  \n",
       "4       crotalus-horridus  c32413ddbb.jpg  "
      ]
     },
     "execution_count": 25,
     "metadata": {},
     "output_type": "execute_result"
    }
   ],
   "source": [
    "frame.head()"
   ]
  },
  {
   "cell_type": "code",
   "execution_count": 26,
   "metadata": {},
   "outputs": [],
   "source": [
    "carpetes = list(frame.scientific_name.unique())\n",
    "filenames = list(frame.filename)\n",
    "sci_names = list(frame.scientific_name)"
   ]
  },
  {
   "cell_type": "code",
   "execution_count": null,
   "metadata": {},
   "outputs": [],
   "source": []
  },
  {
   "cell_type": "code",
   "execution_count": 27,
   "metadata": {},
   "outputs": [
    {
     "data": {
      "text/plain": [
       "['nerodia-sipedon',\n",
       " 'pantherophis-obsoletus',\n",
       " 'crotalus-horridus',\n",
       " 'heterodon-platirhinos',\n",
       " 'storeria-dekayi']"
      ]
     },
     "execution_count": 27,
     "metadata": {},
     "output_type": "execute_result"
    }
   ],
   "source": [
    "carpetes[:5]"
   ]
  },
  {
   "cell_type": "code",
   "execution_count": 28,
   "metadata": {},
   "outputs": [],
   "source": [
    "path = \"train_images/\"\n",
    "\n",
    "def create_folders(carpetes):\n",
    "    for nom in carpetes:\n",
    "        if not os.path.exists(path+nom):\n",
    "            os.makedirs(path+nom)\n",
    "        else:\n",
    "            print(nom+\" ja existeix\")"
   ]
  },
  {
   "cell_type": "code",
   "execution_count": 30,
   "metadata": {},
   "outputs": [
    {
     "name": "stdout",
     "output_type": "stream",
     "text": [
      "nerodia-sipedon ja existeix\n",
      "pantherophis-obsoletus ja existeix\n",
      "crotalus-horridus ja existeix\n",
      "heterodon-platirhinos ja existeix\n"
     ]
    }
   ],
   "source": [
    "create_folders(carpetes)"
   ]
  },
  {
   "cell_type": "code",
   "execution_count": 31,
   "metadata": {},
   "outputs": [],
   "source": [
    "path = \"train_images/\"\n",
    "def move_images(sci_names, filenames):\n",
    "    for sci, file in zip(sci_names,filenames):\n",
    "        try:\n",
    "            os.replace(path+file, path+sci+\"/\"+file)\n",
    "        except:\n",
    "            pass\n"
   ]
  },
  {
   "cell_type": "code",
   "execution_count": 32,
   "metadata": {},
   "outputs": [],
   "source": [
    "move_images(sci_names, filenames)"
   ]
  },
  {
   "cell_type": "code",
   "execution_count": 33,
   "metadata": {},
   "outputs": [
    {
     "name": "stdout",
     "output_type": "stream",
     "text": [
      "nerodia-sipedon\n",
      "fd148672d8.jpg\n",
      "train_images/nerodia-sipedon/fd148672d8.jpg\n"
     ]
    }
   ],
   "source": [
    "print(sci_names[0])\n",
    "print(filenames[0])\n",
    "name = path+sci_names[0]+\"/\"+filenames[0]\n",
    "print(name)"
   ]
  },
  {
   "cell_type": "code",
   "execution_count": 34,
   "metadata": {},
   "outputs": [
    {
     "name": "stdout",
     "output_type": "stream",
     "text": [
      "580\n"
     ]
    }
   ],
   "source": [
    "\n",
    "im = Image.open(name)\n",
    "print (im.width)"
   ]
  },
  {
   "cell_type": "code",
   "execution_count": null,
   "metadata": {},
   "outputs": [],
   "source": [
    "ph = []\n",
    "for root, dirs, files in os.walk(\"test_images_small\"):\n",
    "    for filename in files:\n",
    "        path = os.path.join(root, filename)\n",
    "        size = os.stat(path).st_size # in bytes\n",
    "        ph.append((filename, size))\n",
    "sorted_by_second = sorted(ph, key=lambda tup: tup[1])\n",
    "sorted_by_second[:5]"
   ]
  }
 ],
 "metadata": {
  "kernelspec": {
   "display_name": "Python 3",
   "language": "python",
   "name": "python3"
  },
  "language_info": {
   "codemirror_mode": {
    "name": "ipython",
    "version": 3
   },
   "file_extension": ".py",
   "mimetype": "text/x-python",
   "name": "python",
   "nbconvert_exporter": "python",
   "pygments_lexer": "ipython3",
   "version": "3.6.5"
  }
 },
 "nbformat": 4,
 "nbformat_minor": 4
}
